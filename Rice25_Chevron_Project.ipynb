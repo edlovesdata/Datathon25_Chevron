{
  "nbformat": 4,
  "nbformat_minor": 0,
  "metadata": {
    "colab": {
      "provenance": [],
      "include_colab_link": true
    },
    "kernelspec": {
      "name": "python3",
      "display_name": "Python 3"
    },
    "language_info": {
      "name": "python"
    }
  },
  "cells": [
    {
      "cell_type": "markdown",
      "metadata": {
        "id": "view-in-github",
        "colab_type": "text"
      },
      "source": [
        "<a href=\"https://colab.research.google.com/github/edlovesdata/Datathon25_Chevron/blob/main/Rice25_Chevron_Project.ipynb\" target=\"_parent\"><img src=\"https://colab.research.google.com/assets/colab-badge.svg\" alt=\"Open In Colab\"/></a>"
      ]
    },
    {
      "cell_type": "code",
      "source": [
        "import pandas as pd\n",
        "import seaborn as sns\n",
        "import matplotlib.pyplot as plt"
      ],
      "metadata": {
        "id": "vyQ5pnxcbaII"
      },
      "execution_count": null,
      "outputs": []
    },
    {
      "cell_type": "code",
      "source": [
        "from google.colab import drive\n",
        "drive.mount('/content/drive', force_remount=True)\n",
        "file_path = '/content/drive/My Drive/Chevron data/training.csv'"
      ],
      "metadata": {
        "colab": {
          "base_uri": "https://localhost:8080/"
        },
        "id": "kdl3Xe6WfXJx",
        "outputId": "9a2e41bd-92ab-4ff9-9139-ac486ba83568"
      },
      "execution_count": null,
      "outputs": [
        {
          "output_type": "stream",
          "name": "stdout",
          "text": [
            "Mounted at /content/drive\n"
          ]
        }
      ]
    },
    {
      "cell_type": "code",
      "source": [
        "training_df = pd.read_csv(file_path)"
      ],
      "metadata": {
        "id": "S5kFnA2rjmoO"
      },
      "execution_count": null,
      "outputs": []
    },
    {
      "cell_type": "markdown",
      "source": [],
      "metadata": {
        "id": "pTivGJE3lkUJ"
      }
    },
    {
      "cell_type": "code",
      "source": [
        "print (training_df.isnull().sum())"
      ],
      "metadata": {
        "colab": {
          "base_uri": "https://localhost:8080/"
        },
        "id": "fOQsrYdwJ1C1",
        "outputId": "63c94168-7545-4550-f1be-5531f494a882"
      },
      "execution_count": null,
      "outputs": [
        {
          "output_type": "stream",
          "name": "stdout",
          "text": [
            "Date                                                   0\n",
            "Vehicle Category                                       0\n",
            "GVWR Class                                             0\n",
            "Fuel Type                                              0\n",
            "Model Year                                           603\n",
            "Fuel Technology                                        0\n",
            "Electric Mile Range                                    0\n",
            "Number of Vehicles Registered at the Same Address      0\n",
            "Region                                                 0\n",
            "Vehicle Population                                     0\n",
            "dtype: int64\n"
          ]
        }
      ]
    },
    {
      "cell_type": "code",
      "source": [],
      "metadata": {
        "id": "znS7lmv7LQWk"
      },
      "execution_count": null,
      "outputs": []
    },
    {
      "cell_type": "code",
      "source": [
        "# Trying to figure out if region column is needed\n",
        "region_column_unique_values = training_df['Region'].unique()\n",
        "print(region_column_unique_values)"
      ],
      "metadata": {
        "colab": {
          "base_uri": "https://localhost:8080/"
        },
        "id": "NXM6s4WelRu7",
        "outputId": "edddd87e-65ab-4f63-90c2-1316a3963fac"
      },
      "execution_count": null,
      "outputs": [
        {
          "output_type": "stream",
          "name": "stdout",
          "text": [
            "['Statewide']\n"
          ]
        }
      ]
    },
    {
      "cell_type": "code",
      "source": [
        "gvwr_class_column_unique_values = training_df['GVWR Class'].unique()\n",
        "print(gvwr_class_column_unique_values)"
      ],
      "metadata": {
        "colab": {
          "base_uri": "https://localhost:8080/"
        },
        "id": "BPjr02ermK9h",
        "outputId": "b077b04b-ab2b-4009-a186-fe1af89dc761"
      },
      "execution_count": null,
      "outputs": [
        {
          "output_type": "stream",
          "name": "stdout",
          "text": [
            "['Not Applicable' '1' '2' 'Unknown' '8' '3' '5' '6' '7' '4']\n"
          ]
        }
      ]
    },
    {
      "cell_type": "markdown",
      "source": [],
      "metadata": {
        "id": "J1Nv-MigoCNV"
      }
    },
    {
      "cell_type": "code",
      "source": [
        "value_distribution_percentage = training_df['GVWR Class'].value_counts(normalize=True) * 100\n",
        "print(value_distribution_percentage)"
      ],
      "metadata": {
        "colab": {
          "base_uri": "https://localhost:8080/"
        },
        "id": "eIvWvAEkmrCA",
        "outputId": "c51641fc-36bd-4060-b8ca-c8fe06c65a3c"
      },
      "execution_count": null,
      "outputs": [
        {
          "output_type": "stream",
          "name": "stdout",
          "text": [
            "GVWR Class\n",
            "Not Applicable    34.594305\n",
            "Unknown           21.343142\n",
            "2                 10.320805\n",
            "1                  7.655957\n",
            "6                  4.776752\n",
            "7                  4.647651\n",
            "8                  4.516113\n",
            "3                  4.330987\n",
            "5                  3.933939\n",
            "4                  3.880350\n",
            "Name: proportion, dtype: float64\n"
          ]
        }
      ]
    },
    {
      "cell_type": "markdown",
      "source": [],
      "metadata": {
        "id": "l-krK9HNi74A"
      }
    },
    {
      "cell_type": "code",
      "source": [
        "numeric_values = pd.to_numeric(training_df['GVWR Class'], errors='coerce')"
      ],
      "metadata": {
        "id": "nY4dyG1JyfaD"
      },
      "execution_count": null,
      "outputs": []
    },
    {
      "cell_type": "code",
      "source": [
        "average_value = round(numeric_values.dropna().mean(),4)"
      ],
      "metadata": {
        "id": "-U68dN4qyoNR"
      },
      "execution_count": null,
      "outputs": []
    },
    {
      "cell_type": "code",
      "source": [
        "training_df['GVWR Class'] = training_df['GVWR Class'].replace({'Not Applicable':0,'Unknown' : average_value})"
      ],
      "metadata": {
        "id": "DiHsAhHHyvSz"
      },
      "execution_count": null,
      "outputs": []
    },
    {
      "cell_type": "code",
      "source": [
        "print(training_df['GVWR Class'].unique())"
      ],
      "metadata": {
        "colab": {
          "base_uri": "https://localhost:8080/"
        },
        "id": "aU9eRV5TzV_v",
        "outputId": "ef4681c5-2220-42e6-e36a-fc763d1e4187"
      },
      "execution_count": null,
      "outputs": [
        {
          "output_type": "stream",
          "name": "stdout",
          "text": [
            "[0 '1' '2' 3.9445 '8' '3' '5' '6' '7' '4']\n"
          ]
        }
      ]
    },
    {
      "cell_type": "code",
      "source": [
        "missing_rows_count = training_df['GVWR Class'].isna().sum()\n",
        "print(missing_rows_count)"
      ],
      "metadata": {
        "colab": {
          "base_uri": "https://localhost:8080/"
        },
        "id": "C6O8XV2F3EuW",
        "outputId": "9288078a-5fed-42c9-ce62-69f53af23e42"
      },
      "execution_count": null,
      "outputs": [
        {
          "output_type": "stream",
          "name": "stdout",
          "text": [
            "0\n"
          ]
        }
      ]
    },
    {
      "cell_type": "code",
      "source": [
        "missing_rows_count = training_df.isnull().any(axis=1).sum()\n",
        "print(missing_rows_count)"
      ],
      "metadata": {
        "colab": {
          "base_uri": "https://localhost:8080/"
        },
        "id": "zGvMsYJ05vGZ",
        "outputId": "af4f865f-3cd3-4dc6-9bc3-941eb3eb58fd"
      },
      "execution_count": null,
      "outputs": [
        {
          "output_type": "stream",
          "name": "stdout",
          "text": [
            "603\n"
          ]
        }
      ]
    }
  ]
}